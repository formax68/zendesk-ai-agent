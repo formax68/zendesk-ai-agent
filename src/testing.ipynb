{
 "cells": [
  {
   "cell_type": "code",
   "execution_count": null,
   "id": "cbb89db3",
   "metadata": {},
   "outputs": [],
   "source": [
    "def fetch_ticket(ticket_id):\n",
    "    \"\"\"Fetch ticket comments from Zendesk\"\"\"\n",
    "    from zendesk_client import ZendeskClient\n",
    "    client = ZendeskClient()\n",
    "    comments = client.get_ticket_comments(ticket_id)\n",
    "    return comments"
   ]
  },
  {
   "cell_type": "code",
   "execution_count": null,
   "id": "0e244890",
   "metadata": {},
   "outputs": [],
   "source": [
    "comments = fetch_ticket(632792)"
   ]
  },
  {
   "cell_type": "code",
   "execution_count": null,
   "id": "8b166c03",
   "metadata": {},
   "outputs": [],
   "source": [
    "comments"
   ]
  },
  {
   "cell_type": "code",
   "execution_count": null,
   "id": "41bfa00b",
   "metadata": {},
   "outputs": [],
   "source": [
    "for comment in comments:\n",
    "    print(f\"{comment['author_name']}: {comment['body']}\")\n",
    "    print(f\"Created at: {comment['created_at']}\")\n",
    "    print(\"-\" * 40)"
   ]
  }
 ],
 "metadata": {
  "kernelspec": {
   "display_name": ".venv",
   "language": "python",
   "name": "python3"
  },
  "language_info": {
   "codemirror_mode": {
    "name": "ipython",
    "version": 3
   },
   "file_extension": ".py",
   "mimetype": "text/x-python",
   "name": "python",
   "nbconvert_exporter": "python",
   "pygments_lexer": "ipython3",
   "version": "3.13.5"
  }
 },
 "nbformat": 4,
 "nbformat_minor": 5
}
